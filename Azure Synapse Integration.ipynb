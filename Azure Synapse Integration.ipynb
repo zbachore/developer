{
 "cells": [
  {
   "cell_type": "markdown",
   "metadata": {
    "application/vnd.databricks.v1+cell": {
     "cellMetadata": {},
     "inputWidgets": {},
     "nuid": "ad516784-4197-45ce-9384-1867916c989e",
     "showTitle": false,
     "tableResultSettingsMap": {},
     "title": ""
    }
   },
   "source": [
    "\n",
    "### Using Service Principal Secrets to Read Data From Azure Synapse Analytics"
   ]
  },
  {
   "cell_type": "code",
   "execution_count": 0,
   "metadata": {
    "application/vnd.databricks.v1+cell": {
     "cellMetadata": {
      "byteLimit": 2048000,
      "rowLimit": 10000
     },
     "inputWidgets": {},
     "nuid": "4a2cf43e-131c-4dfc-a9fa-478b033291c8",
     "showTitle": false,
     "tableResultSettingsMap": {},
     "title": ""
    }
   },
   "outputs": [],
   "source": [
    "# No Secrets are saved in code. Everything is coming from Azure Key Vault\n",
    "\n",
    "jdbcHostname = dbutils.secrets.get(scope='adminscope', key='jdbcHostname')\n",
    "jdbcPort = 1433\n",
    "jdbcDatabase = dbutils.secrets.get(scope='adminscope', key='jdbcDatabase')\n",
    "serviceprincipalsecretid = dbutils.secrets.get(scope='adminscope', key='serviceprincipalsecretid')\n",
    "serviceprincipalpassword = dbutils.secrets.get(scope='adminscope', key='serviceprincipalpassword')\n",
    "\n",
    "jdbcUrl = (\n",
    "    f\"jdbc:sqlserver://{jdbcHostname}:{jdbcPort};\"\n",
    "    f\"database={jdbcDatabase};\"\n",
    "    \"encrypt=true;\"\n",
    "    \"trustServerCertificate=false;\"\n",
    "    \"hostNameInCertificate=*.sql.azuresynapse.net;\"\n",
    "    \"authentication=ActiveDirectoryServicePrincipal\"\n",
    ")\n",
    "\n",
    "connectionProperties = {\n",
    "    \"user\": serviceprincipalsecretid,\n",
    "    \"password\": serviceprincipalpassword,\n",
    "    \"driver\": \"com.microsoft.sqlserver.jdbc.SQLServerDriver\"\n",
    "}\n",
    "\n",
    "table = \"[dbo].[sample]\"\n",
    "df = spark.read.jdbc(url=jdbcUrl, table=table, properties=connectionProperties)\n",
    "\n",
    "\n",
    "\n"
   ]
  }
 ],
 "metadata": {
  "application/vnd.databricks.v1+notebook": {
   "computePreferences": null,
   "dashboards": [],
   "environmentMetadata": {
    "base_environment": "",
    "environment_version": "2"
   },
   "inputWidgetPreferences": null,
   "language": "python",
   "notebookMetadata": {
    "mostRecentlyExecutedCommandWithImplicitDF": {
     "commandId": -1,
     "dataframes": [
      "_sqldf"
     ]
    },
    "pythonIndentUnit": 4
   },
   "notebookName": "Azure Synapse Integration",
   "widgets": {}
  },
  "language_info": {
   "name": "python"
  }
 },
 "nbformat": 4,
 "nbformat_minor": 0
}
